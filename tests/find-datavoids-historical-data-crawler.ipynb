{
 "cells": [
  {
   "cell_type": "code",
   "execution_count": 2,
   "metadata": {},
   "outputs": [],
   "source": [
    "%reload_ext autoreload\n",
    "%autoreload 2\n",
    "\n",
    "import os\n",
    "import sys\n",
    "import json\n",
    "import pandas as pd\n",
    "\n",
    "if not os.path.exists(os.path.join(os.getcwd(), 'config.json')):\n",
    "  # preventing to go always to the parent folder everytime we run the jupyter notebook without restarting\n",
    "  os.chdir(\"..\")\n",
    "if not os.getcwd() in sys.path:\n",
    "  sys.path.append(os.getcwd())\n",
    "\n",
    "from datavoids.find_datavoids import *\n",
    "from analysis.analysis_commons import *\n",
    "\n",
    "config = None\n",
    "with open('config.json') as config_file:\n",
    "  config = json.load(config_file)\n",
    "\n",
    "config = clone_config_with_target(config, 'mit', 'dis', -1, -1)\n",
    "config[\"database\"][\"database\"] = \"nellie_hist_crawl\""
   ]
  },
  {
   "cell_type": "code",
   "execution_count": 3,
   "metadata": {},
   "outputs": [
    {
     "data": {
      "text/plain": [
       "[('mit',), ('dis',)]"
      ]
     },
     "execution_count": 3,
     "metadata": {},
     "output_type": "execute_result"
    }
   ],
   "source": [
    "graph = Graph(config)\n",
    "graph.connect()\n",
    "\n",
    "graph.cursor.execute(\"select distinct grp from nodes where grp is not null;\")\n",
    "groups = graph.cursor.fetchall()\n",
    "groups\n"
   ]
  },
  {
   "cell_type": "code",
   "execution_count": 4,
   "metadata": {},
   "outputs": [],
   "source": [
    "graph.cursor.execute(\"update nodes set grp = %s where grp = %s\", ('mit', groups[0]))\n",
    "graph.cursor.execute(\"update nodes set grp = %s where grp = %s\", ('dis', groups[1]))\n",
    "graph.conn.commit()"
   ]
  },
  {
   "cell_type": "code",
   "execution_count": 5,
   "metadata": {},
   "outputs": [
    {
     "name": "stdout",
     "output_type": "stream",
     "text": [
      "Updating ratio\n",
      "Time: 0.00025421863344187535 minutes\n",
      "done\n"
     ]
    },
    {
     "data": {
      "text/html": [
       "<div>\n",
       "<style scoped>\n",
       "    .dataframe tbody tr th:only-of-type {\n",
       "        vertical-align: middle;\n",
       "    }\n",
       "\n",
       "    .dataframe tbody tr th {\n",
       "        vertical-align: top;\n",
       "    }\n",
       "\n",
       "    .dataframe thead th {\n",
       "        text-align: right;\n",
       "    }\n",
       "</style>\n",
       "<table border=\"1\" class=\"dataframe\">\n",
       "  <thead>\n",
       "    <tr style=\"text-align: right;\">\n",
       "      <th></th>\n",
       "      <th>Gram</th>\n",
       "      <th>freq_A</th>\n",
       "      <th>freq_B</th>\n",
       "      <th>freq_U</th>\n",
       "      <th>ratio</th>\n",
       "    </tr>\n",
       "  </thead>\n",
       "  <tbody>\n",
       "    <tr>\n",
       "      <th>0</th>\n",
       "      <td>funded</td>\n",
       "      <td>0.310345</td>\n",
       "      <td>0.307692</td>\n",
       "      <td>0.009009</td>\n",
       "      <td>3.600000</td>\n",
       "    </tr>\n",
       "    <tr>\n",
       "      <th>1</th>\n",
       "      <td>company</td>\n",
       "      <td>0.379310</td>\n",
       "      <td>0.384615</td>\n",
       "      <td>0.027027</td>\n",
       "      <td>2.750000</td>\n",
       "    </tr>\n",
       "    <tr>\n",
       "      <th>2</th>\n",
       "      <td>material</td>\n",
       "      <td>0.413793</td>\n",
       "      <td>0.384615</td>\n",
       "      <td>0.045045</td>\n",
       "      <td>0.545455</td>\n",
       "    </tr>\n",
       "    <tr>\n",
       "      <th>3</th>\n",
       "      <td>nunes</td>\n",
       "      <td>0.344828</td>\n",
       "      <td>0.384615</td>\n",
       "      <td>0.036036</td>\n",
       "      <td>0.333333</td>\n",
       "    </tr>\n",
       "    <tr>\n",
       "      <th>4</th>\n",
       "      <td>concerns</td>\n",
       "      <td>0.344828</td>\n",
       "      <td>0.307692</td>\n",
       "      <td>0.036036</td>\n",
       "      <td>0.285714</td>\n",
       "    </tr>\n",
       "    <tr>\n",
       "      <th>5</th>\n",
       "      <td>jeff</td>\n",
       "      <td>0.344828</td>\n",
       "      <td>0.307692</td>\n",
       "      <td>0.036036</td>\n",
       "      <td>0.285714</td>\n",
       "    </tr>\n",
       "    <tr>\n",
       "      <th>6</th>\n",
       "      <td>devin</td>\n",
       "      <td>0.310345</td>\n",
       "      <td>0.384615</td>\n",
       "      <td>0.036036</td>\n",
       "      <td>0.160714</td>\n",
       "    </tr>\n",
       "    <tr>\n",
       "      <th>7</th>\n",
       "      <td>author</td>\n",
       "      <td>0.310345</td>\n",
       "      <td>0.384615</td>\n",
       "      <td>0.027027</td>\n",
       "      <td>0.160714</td>\n",
       "    </tr>\n",
       "    <tr>\n",
       "      <th>8</th>\n",
       "      <td>congressional</td>\n",
       "      <td>0.344828</td>\n",
       "      <td>0.461538</td>\n",
       "      <td>0.045045</td>\n",
       "      <td>0.136364</td>\n",
       "    </tr>\n",
       "    <tr>\n",
       "      <th>9</th>\n",
       "      <td>secret</td>\n",
       "      <td>0.310345</td>\n",
       "      <td>0.461538</td>\n",
       "      <td>0.045045</td>\n",
       "      <td>0.094737</td>\n",
       "    </tr>\n",
       "    <tr>\n",
       "      <th>10</th>\n",
       "      <td>collusion</td>\n",
       "      <td>0.344828</td>\n",
       "      <td>0.692308</td>\n",
       "      <td>0.045045</td>\n",
       "      <td>0.068702</td>\n",
       "    </tr>\n",
       "  </tbody>\n",
       "</table>\n",
       "</div>"
      ],
      "text/plain": [
       "             Gram    freq_A    freq_B    freq_U     ratio\n",
       "0          funded  0.310345  0.307692  0.009009  3.600000\n",
       "1         company  0.379310  0.384615  0.027027  2.750000\n",
       "2        material  0.413793  0.384615  0.045045  0.545455\n",
       "3           nunes  0.344828  0.384615  0.036036  0.333333\n",
       "4        concerns  0.344828  0.307692  0.036036  0.285714\n",
       "5            jeff  0.344828  0.307692  0.036036  0.285714\n",
       "6           devin  0.310345  0.384615  0.036036  0.160714\n",
       "7          author  0.310345  0.384615  0.027027  0.160714\n",
       "8   congressional  0.344828  0.461538  0.045045  0.136364\n",
       "9          secret  0.310345  0.461538  0.045045  0.094737\n",
       "10      collusion  0.344828  0.692308  0.045045  0.068702"
      ]
     },
     "execution_count": 5,
     "metadata": {},
     "output_type": "execute_result"
    }
   ],
   "source": [
    "res = find_datavoids(config, \n",
    "        min_freq_a=0.3,\n",
    "        min_freq_b=0.3, \n",
    "        max_freq_ungrp=0.05,\n",
    "        ratio_k=1, # penalty of freq_A(w) be different than freq_B(w).\n",
    "        ratio_t=0 # influence of the ungrouped frequency\n",
    "      )\n",
    "\n",
    "df = pd.DataFrame(res, columns=['Gram', 'freq_A', 'freq_B', 'freq_U', 'ratio'])\n",
    "# enable showing more results on jupyter notebook\n",
    "pd.set_option('display.max_rows', 100)\n",
    "df.head(100)"
   ]
  },
  {
   "cell_type": "code",
   "execution_count": 13,
   "metadata": {},
   "outputs": [
    {
     "name": "stdout",
     "output_type": "stream",
     "text": [
      "['funded', 'company', 'material', 'nunes', 'concerns', 'jeff', 'devin', 'author', 'congressional', 'secret', 'collusion']\n",
      "freqA 0.34\n",
      "freqB 0.41\n",
      "freqU 0.04\n"
     ]
    }
   ],
   "source": [
    "print(list(df['Gram']))\n",
    "\n",
    "num_datavoids = len(df['Gram'])\n",
    "freq_keywords_in_A = sum(df['freq_A']) / num_datavoids\n",
    "print(f\"freqA {freq_keywords_in_A:.2f}\")\n",
    "\n",
    "freq_keywords_in_B = sum(df['freq_B']) / num_datavoids\n",
    "print(f\"freqB {freq_keywords_in_B:.2f}\")\n",
    "\n",
    "freq_keywords_in_U = sum(df['freq_U']) / num_datavoids\n",
    "print(f\"freqU {freq_keywords_in_U:.2f}\")"
   ]
  },
  {
   "cell_type": "markdown",
   "metadata": {},
   "source": []
  },
  {
   "cell_type": "code",
   "execution_count": 6,
   "metadata": {},
   "outputs": [],
   "source": [
    "graph.cursor.execute(\"update nodes set grp = %s where grp = %s\", (groups[0], 'mit'))\n",
    "graph.cursor.execute(\"update nodes set grp = %s where grp = %s\", (groups[1], 'dis'))\n",
    "graph.conn.commit()\n"
   ]
  }
 ],
 "metadata": {
  "kernelspec": {
   "display_name": "Python 3",
   "language": "python",
   "name": "python3"
  },
  "language_info": {
   "codemirror_mode": {
    "name": "ipython",
    "version": 3
   },
   "file_extension": ".py",
   "mimetype": "text/x-python",
   "name": "python",
   "nbconvert_exporter": "python",
   "pygments_lexer": "ipython3",
   "version": "3.11.6"
  },
  "orig_nbformat": 4
 },
 "nbformat": 4,
 "nbformat_minor": 2
}
