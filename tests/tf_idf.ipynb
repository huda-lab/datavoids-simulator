{
 "cells": [
  {
   "cell_type": "code",
   "execution_count": 1,
   "metadata": {},
   "outputs": [],
   "source": [
    "%reload_ext autoreload\n",
    "%autoreload 2\n",
    "\n",
    "import os\n",
    "import sys\n",
    "import json\n",
    "import csv\n",
    "import psycopg2\n",
    "\n",
    "if not os.path.exists(os.path.join(os.getcwd(), 'config.json')):\n",
    "  # preventing to go always to the parent folder everytime we run the jupyter notebook without restarting\n",
    "  os.chdir(\"..\")\n",
    "if not os.getcwd() in sys.path:\n",
    "  sys.path.append(os.getcwd())\n",
    "\n",
    "from graph import Graph\n",
    "\n",
    "config = None\n",
    "with open('config.json') as config_file:\n",
    "  config = json.load(config_file)\n",
    "\n",
    "# ---------------------------------------------------\n",
    "# config[\"database\"][\"database\"] = \"wikilite\" # WIKILITE\n",
    "# ---------------------------------------------------\n"
   ]
  },
  {
   "cell_type": "code",
   "execution_count": 2,
   "metadata": {},
   "outputs": [],
   "source": [
    "graph = Graph(config)\n",
    "graph.connect()"
   ]
  },
  {
   "cell_type": "code",
   "execution_count": 3,
   "metadata": {},
   "outputs": [],
   "source": [
    "# Compute the words that are shared between the seeded document \n",
    "# (But has to be generalized with N pages so we can do for all words of all seeds pages)\n",
    "# graph.cursor.execute(\"drop table if exists idf2\")\n",
    "# graph.conn.commit()\n",
    "# graph.cursor.execute(\"\"\"\n",
    "#   create table idf2 as (\n",
    "#     select distinct grams as gram, 0 as df, 0 as idf\n",
    "#     from nodes_info, grams(nodes_info.content)\n",
    "#     where id < 100000\n",
    "#   );\n",
    "# \"\"\")\n",
    "# graph.conn.commit()"
   ]
  },
  {
   "cell_type": "code",
   "execution_count": 3,
   "metadata": {},
   "outputs": [],
   "source": [
    "graph.close()"
   ]
  },
  {
   "cell_type": "code",
   "execution_count": 4,
   "metadata": {},
   "outputs": [
    {
     "name": "stdout",
     "output_type": "stream",
     "text": [
      "seeded pages: 8\n"
     ]
    }
   ],
   "source": [
    "all_target_nodes = []\n",
    "with open('data/contrasting_arguments_labeled_stats_selected.csv', 'r') as f:\n",
    "  reader = csv.DictReader(f)\n",
    "  for r in reader:\n",
    "    if int(r['Selected']) != 1:\n",
    "      continue\n",
    "    all_target_nodes.append(int(r['Mitigator_ID']))\n",
    "    all_target_nodes.append(int(r['Disinformer_ID']))\n",
    "\n",
    "print(\"seeded pages:\", len(all_target_nodes))\n",
    "# all_target_nodes = all_target_nodes[:2]"
   ]
  },
  {
   "cell_type": "code",
   "execution_count": 5,
   "metadata": {},
   "outputs": [],
   "source": [
    "conn = psycopg2.connect(**config['database'])\n",
    "cursor = conn.cursor()"
   ]
  },
  {
   "cell_type": "code",
   "execution_count": 6,
   "metadata": {},
   "outputs": [
    {
     "name": "stdout",
     "output_type": "stream",
     "text": [
      "Important term saved: [('',)]\n"
     ]
    }
   ],
   "source": [
    "cursor.execute(\"select compute_idf_seeds_nodes(%s)\", (all_target_nodes,))\n",
    "print(\"Important term saved:\", cursor.fetchall())\n",
    "conn.commit()"
   ]
  },
  {
   "cell_type": "code",
   "execution_count": null,
   "metadata": {},
   "outputs": [],
   "source": [
    "# We don't do for all nodes, but only the target nodes we care about in our experiments\n",
    "# To do for all:\n",
    "\n",
    "# cursor.execute(\"select compute_idf()\")\n",
    "# print(\"Important term saved:\", cursor.fetchall())\n",
    "# conn.commit()\n",
    "\n",
    "# To complete estimation of 166 hours to complete (about 7 days) \n",
    "# assuming is linear complexity but never tried"
   ]
  },
  {
   "cell_type": "code",
   "execution_count": 9,
   "metadata": {},
   "outputs": [
    {
     "name": "stdout",
     "output_type": "stream",
     "text": [
      "Common words among seeds pages: 3830\n"
     ]
    }
   ],
   "source": [
    "# Compute the words that are shared between the seeded document \n",
    "# (But has to be generalized with N pages so we can do for all words of all seeds pages)\n",
    "# cursor.execute(\"drop table if exists tf_seeds_pages\")\n",
    "conn.commit()\n",
    "cursor.execute(\"\"\"\n",
    "  drop table if exists tf_seeds_pages;\n",
    "  create table tf_seeds_pages as (\n",
    "    select distinct grams as gram, 0 as df, 0 as idf\n",
    "    from nodes_info, grams(nodes_info.content)\n",
    "    where nodes_info.id = any(%s)\n",
    "  );\n",
    "\"\"\", [all_target_nodes])\n",
    "conn.commit()\n",
    "\n",
    "cursor.execute(\"\"\"\n",
    "  select count(*) from tf_seeds_pages\n",
    "\"\"\")\n",
    "print(\"Common words among seeds pages:\", cursor.fetchone()[0])"
   ]
  },
  {
   "cell_type": "code",
   "execution_count": 10,
   "metadata": {},
   "outputs": [],
   "source": [
    "cursor.close()\n",
    "conn.close()"
   ]
  }
 ],
 "metadata": {
  "kernelspec": {
   "display_name": "Python 3",
   "language": "python",
   "name": "python3"
  },
  "language_info": {
   "codemirror_mode": {
    "name": "ipython",
    "version": 3
   },
   "file_extension": ".py",
   "mimetype": "text/x-python",
   "name": "python",
   "nbconvert_exporter": "python",
   "pygments_lexer": "ipython3",
   "version": "3.12.3"
  },
  "orig_nbformat": 4
 },
 "nbformat": 4,
 "nbformat_minor": 2
}
