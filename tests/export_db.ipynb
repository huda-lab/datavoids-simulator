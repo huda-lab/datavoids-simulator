{
 "cells": [
  {
   "cell_type": "code",
   "execution_count": null,
   "metadata": {},
   "outputs": [],
   "source": [
    "%reload_ext autoreload\n",
    "%autoreload 2\n",
    "\n",
    "import os\n",
    "import sys\n",
    "import json\n",
    "import psycopg2\n",
    "\n",
    "if not os.path.exists(os.path.join(os.getcwd(), 'config.json')):\n",
    "  # preventing to go always to the parent folder everytime we run the jupyter notebook without restarting\n",
    "  os.chdir(\"..\")\n",
    "if not os.getcwd() in sys.path:\n",
    "  sys.path.append(os.getcwd())\n",
    "\n",
    "from labeler.database_labeler import label_database\n",
    "from analysis.analysis_commons import clone_config_with_target, wikipedia_link_to_id, wikipedia_link_to_title\n",
    "\n",
    "config = None\n",
    "with open('config.json') as config_file:\n",
    "  config = json.load(config_file)\n",
    "\n",
    "conn = psycopg2.connect(**config[\"database\"])\n",
    "cur = conn.cursor()\n",
    "cur.execute(\"SELECT id, url, content FROM nodes_info\")\n",
    "while True:\n",
    "  node = cur.fetchone()\n",
    "  if node is None:\n",
    "      break\n",
    "  \n",
    "  node_id, node_url, content = node\n",
    "  \n",
    "  cur_inner = conn.cursor()\n",
    "  cur_inner.execute(\"SELECT des FROM edges WHERE src = %s\", (node_id,))\n",
    "  edges = cur_inner.fetchall()\n",
    "  outer_links = \", \".join(f\"[[{edge[0]}]]\" for edge in edges)\n",
    "  \n",
    "  markdown_content = f\"# {node_url}\\n\\n---\\n\\n{content}\\n\\n---\\n\\n## Outer Links\\n\\n{outer_links}\"\n",
    "  \n",
    "  with open(f\"md_export/{node_id}.md\", \"w\") as md_file:\n",
    "      md_file.write(markdown_content)\n",
    "  \n",
    "  cur_inner.close()\n",
    "\n",
    "cur.close()\n",
    "conn.close()\n"
   ]
  }
 ],
 "metadata": {
  "kernelspec": {
   "display_name": "Python 3",
   "language": "python",
   "name": "python3"
  },
  "language_info": {
   "codemirror_mode": {
    "name": "ipython",
    "version": 3
   },
   "file_extension": ".py",
   "mimetype": "text/x-python",
   "name": "python",
   "nbconvert_exporter": "python",
   "pygments_lexer": "ipython3",
   "version": "3.11.6"
  },
  "orig_nbformat": 4
 },
 "nbformat": 4,
 "nbformat_minor": 2
}
