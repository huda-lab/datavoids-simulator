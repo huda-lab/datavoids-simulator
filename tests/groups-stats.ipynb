{
 "cells": [
  {
   "cell_type": "code",
   "execution_count": 1,
   "metadata": {},
   "outputs": [
    {
     "name": "stdout",
     "output_type": "stream",
     "text": [
      "Selected topics: ['Declarative Language vs Procedural Language', 'Optimism vs Pessimism', 'Rationalism vs Empiricism', 'Classical Economics vs Keynesian Economics']\n",
      "Declarative Language vs Procedural Language\n",
      "Optimism vs Pessimism\n",
      "Rationalism vs Empiricism\n",
      "Classical Economics vs Keynesian Economics\n"
     ]
    }
   ],
   "source": [
    "%reload_ext autoreload\n",
    "%autoreload 2\n",
    "\n",
    "import os\n",
    "import sys\n",
    "import json\n",
    "import copy\n",
    "\n",
    "if not os.path.exists(os.path.join(os.getcwd(), 'config.json')):\n",
    "  # preventing to go always to the parent folder everytime we run the jupyter notebook without restarting\n",
    "  os.chdir(\"..\")\n",
    "if not os.getcwd() in sys.path:\n",
    "  sys.path.append(os.getcwd())\n",
    "\n",
    "from analysis.analysis_commons import *\n",
    "from strategies import *\n",
    "\n",
    "main_config = None\n",
    "with open('config.json') as config_file:\n",
    "  main_config = json.load(config_file)\n",
    "\n",
    "selected_topics = [] \n",
    "\n",
    "with open('data/contrasting_arguments_labeled_stats_selected.csv', 'r') as f:\n",
    "  reader = csv.DictReader(f)\n",
    "  for r in reader:\n",
    "    if int(r['Selected']) != 1:\n",
    "      continue\n",
    "    selected_topics.append(r['Mitigator'] + ' vs ' + r['Disinformer'])\n",
    "\n",
    "f = open('data/datavoids_per_topic_filtered.json', 'r')\n",
    "datavoids_per_topic = json.load(f)\n",
    "check_repeated_keys(datavoids_per_topic)\n",
    "\n",
    "for topic in datavoids_per_topic.keys():\n",
    "  if topic not in selected_topics:\n",
    "    continue\n",
    "\n",
    "  print(topic)\n",
    "\n",
    "\n"
   ]
  }
 ],
 "metadata": {
  "kernelspec": {
   "display_name": "Python 3",
   "language": "python",
   "name": "python3"
  },
  "language_info": {
   "codemirror_mode": {
    "name": "ipython",
    "version": 3
   },
   "file_extension": ".py",
   "mimetype": "text/x-python",
   "name": "python",
   "nbconvert_exporter": "python",
   "pygments_lexer": "ipython3",
   "version": "3.11.6"
  }
 },
 "nbformat": 4,
 "nbformat_minor": 2
}
